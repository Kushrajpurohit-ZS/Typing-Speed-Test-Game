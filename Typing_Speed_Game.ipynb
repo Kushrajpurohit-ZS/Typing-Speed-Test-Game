import pygame
from pygame.locals import *
import time
import random
  
    
class Typing_Game:
   
    def __init__(self):
        
        self.width=750
        self.height=500
        self.reset=True
        self.active = False
        self.input_sentence=''
        self.words= ''
        self.start_time = 0
        self.total_time = 0
        self.accuracy = '0%'
        self.results = 'Time:0 Accuracy:0% '
        self.end = False
        self.heading_color = (255,213,102)
        self.text_color = (240,240,240)
        self.output_color = (255,70,70)
        
        
       
        pygame.init()
        
        self.screen = pygame.display.set_mode((self.width,self.height))
        pygame.display.set_caption('Type Speed test')
        
        
        self.bckg_img = pygame.image.load('photo-1550684376-efcbd6e3f031.jpg')
        self.bckg_img = pygame.transform.scale(self.bckg_img, (750,750))
        
        
        self.load_img = pygame.image.load('loading.jpg')
        self.load_img = pygame.transform.scale(self.load_img, (self.width,self.height))
        
        icon=pygame.image.load('typing.png')
        pygame.display.set_icon(icon)
       
        
    def sentence(self):
        s = open('sentences.txt').read()
        s1 = s.split('\n')
        s2 = random.choice(s1)
        return s2
    
    
    
    def for_text(self, screen, message, h ,font_size, color):
        f1 = pygame.font.Font(None, font_size)

        text_surface = f1.render(message, True,color)
        text_rect = text_surface.get_rect(center=(self.width/2, h))
        screen.blit(text_surface, text_rect)
        pygame.display.update()   
        
    

    def main_result(self, screen):
        if(not self.end):
            
            self.total_time = time.time() - self.start_time
               
            
            c = 0
            for i,j in enumerate(self.words):
                try:
                    if self.input_sentence[i] == j:
                        c += 1
                except:
                    pass
            self.accuracy = c/len(self.words)*100
           
           
                
            self.results = 'Time Taken: '+str(round(self.total_time)) +" seconds   Accuracy: "+ str(round(self.accuracy)) + "%" 

            
            self.icon_img = pygame.image.load('reset-typing.jpeg')
            self.icon_img = pygame.transform.scale(self.icon_img, (125,100))
            
            screen.blit(self.icon_img, (self.width/2-75,self.height-140))
            self.for_text(screen,"RESET", self.height - 80, 26, (0,0,0))
            
            
            pygame.display.update()

    def run_a_program(self):
        self.reset_game()
        self.q=True
        
        while(self.q):
            
            clock = pygame.time.Clock()
            
            self.screen.fill((0,0,0), (50,250,650,50))
            pygame.draw.rect(self.screen,self.heading_color, (50,250,650,50), 2)
            
            
            self.for_text(self.screen, self.input_sentence, 274, 26,(250,250,250))
            
            pygame.display.update()
            
            for event in pygame.event.get():
                if event.type == QUIT:
                    self.q=False
                    pygame.quit()
                elif event.type == pygame.MOUSEBUTTONUP:
                    x,y = pygame.mouse.get_pos()
                    
                    if(x>=50 and x<=650 and y>=250 and y<=300):
                        self.active = True
                        self.input_sentence = ''
                        self.start_time = time.time() 
                     
                    if(x>=310 and x<=510 and y>=390 and self.end):
                        self.reset_game()
                        x,y = pygame.mouse.get_pos()
         
                        
                elif event.type == pygame.KEYDOWN:
                    if self.active and not self.end:
                        if event.key == pygame.K_RETURN:
                            print(self.input_sentence)
                            self.main_result(self.screen)
                            print(self.results)
                            self.for_text(self.screen, self.results,350, 28, self.output_color)  
                            self.end = True
                            
                        elif event.key == pygame.K_BACKSPACE:
                            self.input_sentence = self.input_sentence[:-1]
                        else:
                            try:
                                self.input_sentence += event.unicode
                            except:
                                pass
            
            pygame.display.update()
             
                
        clock.tick(60)

    def reset_game(self):
        self.screen.blit(self.load_img, (0,0))
        
        pygame.display.update()
        
        time.sleep(1)
        
        self.reset=False
        
        self.end = False
        
        self.input_sentence=''
        
        self.words = ''
        
        self.start_time = 0
        
        self.total_time = 0
        
         
        self.words= self.sentence()
        
        if (not self.words):
            self.reset_game()
        
        
        self.screen.fill((0,0,0))
        
        self.screen.blit(self.bckg_img,(0,0))
        
        message = "Typing Speed Test"
        
        self.for_text(self.screen, message,80, 80,self.heading_color)  
        
        
        pygame.draw.rect(self.screen,(255,192,25), (50,250,650,50), 2)

        
        self.for_text(self.screen, self.words,200, 28,self.text_color)
        
        pygame.display.update()
        
Typing_Game().run_a_program()
